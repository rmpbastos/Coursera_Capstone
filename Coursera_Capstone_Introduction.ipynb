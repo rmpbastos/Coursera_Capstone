{
    "cells": [
        {
            "cell_type": "markdown",
            "metadata": {
                "collapsed": true
            },
            "source": "# The Battle of Neighborhoods - Vancouver"
        },
        {
            "cell_type": "markdown",
            "metadata": {},
            "source": "## Segmenting and clustering neighborhoods in the City of Vancouver to determine the best location to start a bike rental business"
        },
        {
            "cell_type": "markdown",
            "metadata": {},
            "source": "### 1. Introduction/Business Problem"
        },
        {
            "cell_type": "markdown",
            "metadata": {},
            "source": "Starting a business can be an extremely ardous task. When an individual decides to open his or her own company, one faces a multitude of challenges and doubts, namely the type of business, the location, which costs are involved and whether your products will attract enough customers to help the company grow, just to mention a few.\n\nThis project will discuss a case in which an individual already has an expertise in the field of bike rental in his home country. The fact is that he is moving to Vancouver, Canada, and is looking forward to open a bike rental company there. However, although this person has the know-how of running such a business, he has unsufficient knowledge about Vancouver's neighborhoods and its peculiarities. He wants to open his firm in a location where it will have a higher chance of prospering. Moreover, he wants to live in the vicinity of the company, if possible, so he can commute by foot or riding a bike.\n\nThe challenge of this project is to find the most suitable location for this individual to open his bike rental shop, considering that the chosen neighborhood should also be a good place to live."
        }
    ],
    "metadata": {
        "kernelspec": {
            "display_name": "Python 3.6",
            "language": "python",
            "name": "python3"
        },
        "language_info": {
            "codemirror_mode": {
                "name": "ipython",
                "version": 3
            },
            "file_extension": ".py",
            "mimetype": "text/x-python",
            "name": "python",
            "nbconvert_exporter": "python",
            "pygments_lexer": "ipython3",
            "version": "3.6.9"
        }
    },
    "nbformat": 4,
    "nbformat_minor": 1
}
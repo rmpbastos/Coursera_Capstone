{
    "cells": [
        {
            "cell_type": "markdown",
            "metadata": {
                "collapsed": true
            },
            "source": "# The Battle of Neighborhoods - Vancouver"
        },
        {
            "cell_type": "markdown",
            "metadata": {},
            "source": "## Segmenting and clustering neighborhoods in the City of Vancouver to determine the best location to start a bike rental business"
        },
        {
            "cell_type": "markdown",
            "metadata": {},
            "source": "### 1. Introduction"
        },
        {
            "cell_type": "markdown",
            "metadata": {},
            "source": "Starting a business can be an extremely ardous task. When an individual decides to open his or her own company, one faces a multitude of challenges and doubts, namely the type of business, the location, which costs are involved and whether your products will attract enough customers to help the company grow, just to mention a few.\n\nThis project will discuss a case in which an individual already has an expertise in the field of bike rental in his home country. The fact is that he is moving to Vancouver, Canada, and is looking forward to open a bike rental company there. However, although this person has the know-how of running such a business, he has unsufficient knowledge about Vancouver's neighborhoods and its peculiarities. He wants to open his firm in a location where it will have a higher chance of prospering. Moreover, he wants to live in the vicinity of the company, if possible, so he can commute by foot or riding a bike.\n\nThe challenge of this project is to find the most suitable location for this individual to open his bike rental shop, considering that the chosen neighborhood should also be a good place to live."
        },
        {
            "cell_type": "markdown",
            "metadata": {},
            "source": "### 2. Data"
        },
        {
            "cell_type": "markdown",
            "metadata": {},
            "source": "To solve the problem and find the perfect location for the business,  the City of Vancouver will be segmented in neighborhoods acording to their postal codes. To do so, I will utilize the website <a href=\"https://www.geonames.org/postalcode-search.html?q=vancouver&country=CA&adminCode1=BC\">geonames.org</a>, which has a free and extensive geographical database, to extract information about the neighborhoods, such as their names, postal codes and geographic coordinates.\n\nAfter extracting and cleaning the data, I will be using a Python tool called <b>folium</b> to make an interactive map of the region, identifying all the neighborhoods and, in the following step, the Foursquare API will be utilized so we can determine the most common types of venues on each neighborhood.\n\nWith the help of the data obtained from the Foursquare API we will be able to segment the neigborhoods into different clusters, according to their similarities, and find a location that matches the individual's needs. We will be preferably looking for a neighborhood with enough parks and trails and easy to access, where the demand for bikes are probably higher than in other regions of the city. Furthermore, it would be desirable that such neighborhood is also a great place to live, with a considerable amount of restaurants, stores and other services nearby. "
        },
        {
            "cell_type": "code",
            "execution_count": null,
            "metadata": {},
            "outputs": [],
            "source": ""
        }
    ],
    "metadata": {
        "kernelspec": {
            "display_name": "Python 3.6",
            "language": "python",
            "name": "python3"
        },
        "language_info": {
            "codemirror_mode": {
                "name": "ipython",
                "version": 3
            },
            "file_extension": ".py",
            "mimetype": "text/x-python",
            "name": "python",
            "nbconvert_exporter": "python",
            "pygments_lexer": "ipython3",
            "version": "3.6.9"
        }
    },
    "nbformat": 4,
    "nbformat_minor": 1
}
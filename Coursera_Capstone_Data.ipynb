{
    "cells": [
        {
            "cell_type": "markdown",
            "metadata": {
                "collapsed": true
            },
            "source": "# The Battle of Neighborhoods - Vancouver"
        },
        {
            "cell_type": "markdown",
            "metadata": {},
            "source": "## Segmenting and clustering neighborhoods in the City of Vancouver to determine the best location to start a bike rental business"
        },
        {
            "cell_type": "markdown",
            "metadata": {},
            "source": "### 2. Data"
        },
        {
            "cell_type": "markdown",
            "metadata": {},
            "source": "To solve the problem and find the perfect location for the business,  the City of Vancouver will be segmented in neighborhoods acording to their postal codes. To do so, I will utilize the website <a href=\"https://www.geonames.org/postalcode-search.html?q=vancouver&country=CA&adminCode1=BC\">geonames.org</a>, which has a free and extensive geographical database, to extract information about the neighborhoods, such as their names, postal codes and geographic coordinates.\n\nAfter extracting and cleaning the data, I will be using a Python tool called <b>folium</b> to make an interactive map of the region, identifying all the neighborhoods and, in the following step, the Foursquare API will be utilized so we can determine the most common types of venues on each neighborhood.\n\nWith the help of the data obtained from the Foursquare API we will be able to segment the neigborhoods into different clusters, according to their similarities, and find a location that matches the individual's needs. We will be preferably looking for a neighborhood with enough parks and trails and easy to access, where the demand for bikes are probably higher than in other regions of the city. Furthermore, it would be desirable that such neighborhood is also a great place to live, with a considerable amount of restaurants, stores and other services nearby. "
        }
    ],
    "metadata": {
        "kernelspec": {
            "display_name": "Python 3.6",
            "language": "python",
            "name": "python3"
        },
        "language_info": {
            "codemirror_mode": {
                "name": "ipython",
                "version": 3
            },
            "file_extension": ".py",
            "mimetype": "text/x-python",
            "name": "python",
            "nbconvert_exporter": "python",
            "pygments_lexer": "ipython3",
            "version": "3.6.9"
        }
    },
    "nbformat": 4,
    "nbformat_minor": 1
}